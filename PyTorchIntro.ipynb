{
  "nbformat": 4,
  "nbformat_minor": 0,
  "metadata": {
    "colab": {
      "name": "PyTorchIntro.ipynb",
      "provenance": [],
      "collapsed_sections": [],
      "include_colab_link": true
    },
    "kernelspec": {
      "name": "python3",
      "display_name": "Python 3"
    },
    "language_info": {
      "name": "python"
    },
    "accelerator": "GPU"
  },
  "cells": [
    {
      "cell_type": "markdown",
      "metadata": {
        "id": "view-in-github",
        "colab_type": "text"
      },
      "source": [
        "<a href=\"https://colab.research.google.com/github/Aska-zhang/O50/blob/master/PyTorchIntro.ipynb\" target=\"_parent\"><img src=\"https://colab.research.google.com/assets/colab-badge.svg\" alt=\"Open In Colab\"/></a>"
      ]
    },
    {
      "cell_type": "markdown",
      "metadata": {
        "id": "QRphMNqJyQ_K"
      },
      "source": [
        "# PyTorch Introduction\n",
        "#### Yutao ZHU, University of Montreal\n",
        "\n",
        "Pytorch is a Python-based scientific computing package serving two broad purposes:\n",
        "- A replacement for NumPy to use the power of GPUs and other accelerators\n",
        "- An automatic differentiation library that is useful to implement neural networks"
      ]
    },
    {
      "cell_type": "markdown",
      "metadata": {
        "id": "AryXKWMxy1Rl"
      },
      "source": [
        "####Tensors\n",
        "- Similar to arrays and matrices\n",
        "- NumPy's ndarrays"
      ]
    },
    {
      "cell_type": "code",
      "metadata": {
        "id": "Ank5YpOiy7-F"
      },
      "source": [
        "import torch \n",
        "import torch.nn as nn"
      ],
      "execution_count": null,
      "outputs": []
    },
    {
      "cell_type": "code",
      "metadata": {
        "colab": {
          "base_uri": "https://localhost:8080/"
        },
        "id": "9aGeCUDKy_8O",
        "outputId": "9415d888-a65b-4657-ab63-f3a60eee3616"
      },
      "source": [
        "# Create Tensor\n",
        "data = [[1, 2], [3, 4]]\n",
        "x_data = torch.tensor(data)\n",
        "print(x_data)"
      ],
      "execution_count": null,
      "outputs": [
        {
          "output_type": "stream",
          "name": "stdout",
          "text": [
            "tensor([[1, 2],\n",
            "        [3, 4]])\n"
          ]
        }
      ]
    },
    {
      "cell_type": "code",
      "metadata": {
        "colab": {
          "base_uri": "https://localhost:8080/",
          "height": 198
        },
        "id": "X2AECCO4zGz0",
        "outputId": "1c4017a1-5edc-486f-fd06-ddf77a73a7dc"
      },
      "source": [
        "data = [[1, 2, 3], [4, 5]]\n",
        "x_data = torch.tensor(data)\n",
        "print(x_data)"
      ],
      "execution_count": null,
      "outputs": [
        {
          "output_type": "error",
          "ename": "ValueError",
          "evalue": "ignored",
          "traceback": [
            "\u001b[0;31m---------------------------------------------------------------------------\u001b[0m",
            "\u001b[0;31mValueError\u001b[0m                                Traceback (most recent call last)",
            "\u001b[0;32m<ipython-input-7-e075918b14ab>\u001b[0m in \u001b[0;36m<module>\u001b[0;34m()\u001b[0m\n\u001b[1;32m      1\u001b[0m \u001b[0mdata\u001b[0m \u001b[0;34m=\u001b[0m \u001b[0;34m[\u001b[0m\u001b[0;34m[\u001b[0m\u001b[0;36m1\u001b[0m\u001b[0;34m,\u001b[0m \u001b[0;36m2\u001b[0m\u001b[0;34m,\u001b[0m \u001b[0;36m3\u001b[0m\u001b[0;34m]\u001b[0m\u001b[0;34m,\u001b[0m \u001b[0;34m[\u001b[0m\u001b[0;36m4\u001b[0m\u001b[0;34m,\u001b[0m \u001b[0;36m5\u001b[0m\u001b[0;34m]\u001b[0m\u001b[0;34m]\u001b[0m\u001b[0;34m\u001b[0m\u001b[0;34m\u001b[0m\u001b[0m\n\u001b[0;32m----> 2\u001b[0;31m \u001b[0mx_data\u001b[0m \u001b[0;34m=\u001b[0m \u001b[0mtorch\u001b[0m\u001b[0;34m.\u001b[0m\u001b[0mtensor\u001b[0m\u001b[0;34m(\u001b[0m\u001b[0mdata\u001b[0m\u001b[0;34m)\u001b[0m\u001b[0;34m\u001b[0m\u001b[0;34m\u001b[0m\u001b[0m\n\u001b[0m\u001b[1;32m      3\u001b[0m \u001b[0mprint\u001b[0m\u001b[0;34m(\u001b[0m\u001b[0mx_data\u001b[0m\u001b[0;34m)\u001b[0m\u001b[0;34m\u001b[0m\u001b[0;34m\u001b[0m\u001b[0m\n",
            "\u001b[0;31mValueError\u001b[0m: expected sequence of length 3 at dim 1 (got 2)"
          ]
        }
      ]
    },
    {
      "cell_type": "code",
      "metadata": {
        "colab": {
          "base_uri": "https://localhost:8080/"
        },
        "id": "75G5ps1OzKRG",
        "outputId": "3a46f35c-4452-4b4d-9916-c96f86930399"
      },
      "source": [
        "rand_tensor = torch.rand(2, 2)\n",
        "ones_tesnor = torch.ones(2, 2)\n",
        "zeros_tensor = torch.zeros(2, 2)\n",
        "print(rand_tensor)\n",
        "print(ones_tesnor)\n",
        "print(zeros_tensor)"
      ],
      "execution_count": null,
      "outputs": [
        {
          "output_type": "stream",
          "name": "stdout",
          "text": [
            "tensor([[0.4614, 0.0777],\n",
            "        [0.3027, 0.1466]])\n",
            "tensor([[1., 1.],\n",
            "        [1., 1.]])\n",
            "tensor([[0., 0.],\n",
            "        [0., 0.]])\n"
          ]
        }
      ]
    },
    {
      "cell_type": "code",
      "metadata": {
        "colab": {
          "base_uri": "https://localhost:8080/"
        },
        "id": "oXyqNX7fzQFf",
        "outputId": "3dfd0d55-cf19-46bd-8648-52bd0a096bb9"
      },
      "source": [
        "# Attributes\n",
        "t = torch.rand(3, 4)\n",
        "print(t.shape)\n",
        "print(t.size())\n",
        "print(t.size(1))\n",
        "print(t.dtype)\n",
        "print(t.device)\n",
        "print(t.type())"
      ],
      "execution_count": null,
      "outputs": [
        {
          "output_type": "stream",
          "name": "stdout",
          "text": [
            "torch.Size([3, 4])\n",
            "torch.Size([3, 4])\n",
            "4\n",
            "torch.float32\n",
            "cpu\n",
            "torch.FloatTensor\n"
          ]
        }
      ]
    },
    {
      "cell_type": "code",
      "metadata": {
        "colab": {
          "base_uri": "https://localhost:8080/"
        },
        "id": "2tLSC5bbzc8T",
        "outputId": "ac386f72-76a2-4da0-88ee-2b6686f81af8"
      },
      "source": [
        "# Type\n",
        "t = torch.rand(3, 4)\n",
        "t1 = t.int()\n",
        "print(t1)"
      ],
      "execution_count": null,
      "outputs": [
        {
          "output_type": "stream",
          "name": "stdout",
          "text": [
            "tensor([[0, 0, 0, 0],\n",
            "        [0, 0, 0, 0],\n",
            "        [0, 0, 0, 0]], dtype=torch.int32)\n"
          ]
        }
      ]
    },
    {
      "cell_type": "code",
      "metadata": {
        "colab": {
          "base_uri": "https://localhost:8080/"
        },
        "id": "kZLYObCEzhzK",
        "outputId": "4ac31582-7b07-469b-ba34-4b035ee4e835"
      },
      "source": [
        "# To GPU\n",
        "t = torch.rand(3, 4)\n",
        "t.to(\"cuda\")\n",
        "print(t)"
      ],
      "execution_count": null,
      "outputs": [
        {
          "output_type": "stream",
          "name": "stdout",
          "text": [
            "tensor([[0.5781, 0.8331, 0.0728, 0.5034],\n",
            "        [0.1112, 0.3051, 0.8690, 0.2731],\n",
            "        [0.6267, 0.2233, 0.1759, 0.4045]])\n"
          ]
        }
      ]
    },
    {
      "cell_type": "code",
      "metadata": {
        "colab": {
          "base_uri": "https://localhost:8080/"
        },
        "id": "431O8Tg-zsSZ",
        "outputId": "a8c20054-df53-42bf-baa7-aaaf7d37a0fe"
      },
      "source": [
        "# Indexing and Slicing\n",
        "t = torch.ones(4, 4)\n",
        "print(t[0, 0])\n",
        "t[:, 1] = 0\n",
        "print(t)"
      ],
      "execution_count": null,
      "outputs": [
        {
          "output_type": "stream",
          "name": "stdout",
          "text": [
            "tensor(1.)\n",
            "tensor([[1., 0., 1., 1.],\n",
            "        [1., 0., 1., 1.],\n",
            "        [1., 0., 1., 1.],\n",
            "        [1., 0., 1., 1.]])\n"
          ]
        }
      ]
    },
    {
      "cell_type": "code",
      "metadata": {
        "colab": {
          "base_uri": "https://localhost:8080/"
        },
        "id": "YNfXa55zz0aI",
        "outputId": "690320e4-3d7f-49d5-8b31-22961a4d8181"
      },
      "source": [
        "# Concatenation\n",
        "t = torch.ones(4, 4)\n",
        "t2 = torch.cat([t, t, t], dim=0)\n",
        "t3 = torch.cat([t, t, t], dim=1)\n",
        "print(t2.size())\n",
        "print(t3.size())\n",
        "# t4 = torch.cat([t, t, t], dim=2) \n",
        "t = t.unsqueeze(-1)\n",
        "print(t.size())\n",
        "t4 = torch.cat([t, t, t], dim=2)\n",
        "print(t4.size())"
      ],
      "execution_count": null,
      "outputs": [
        {
          "output_type": "stream",
          "name": "stdout",
          "text": [
            "torch.Size([12, 4])\n",
            "torch.Size([4, 12])\n",
            "torch.Size([4, 4, 1])\n",
            "torch.Size([4, 4, 3])\n"
          ]
        }
      ]
    },
    {
      "cell_type": "code",
      "metadata": {
        "colab": {
          "base_uri": "https://localhost:8080/"
        },
        "id": "UwJv7IIpz0b1",
        "outputId": "c928ce82-e8c2-4d14-bad8-5c941f2074bc"
      },
      "source": [
        "# Basic Operation\n",
        "t = torch.ones(4, 4)\n",
        "t2 = t * t\n",
        "t3 = t + t\n",
        "t4 = t2 - t\n",
        "t5 = t4 / t\n",
        "print(t)\n",
        "print(t2)\n",
        "print(t3)\n",
        "print(t4)\n",
        "print(t5)"
      ],
      "execution_count": null,
      "outputs": [
        {
          "output_type": "stream",
          "name": "stdout",
          "text": [
            "tensor([[1., 1., 1., 1.],\n",
            "        [1., 1., 1., 1.],\n",
            "        [1., 1., 1., 1.],\n",
            "        [1., 1., 1., 1.]])\n",
            "tensor([[1., 1., 1., 1.],\n",
            "        [1., 1., 1., 1.],\n",
            "        [1., 1., 1., 1.],\n",
            "        [1., 1., 1., 1.]])\n",
            "tensor([[2., 2., 2., 2.],\n",
            "        [2., 2., 2., 2.],\n",
            "        [2., 2., 2., 2.],\n",
            "        [2., 2., 2., 2.]])\n",
            "tensor([[0., 0., 0., 0.],\n",
            "        [0., 0., 0., 0.],\n",
            "        [0., 0., 0., 0.],\n",
            "        [0., 0., 0., 0.]])\n",
            "tensor([[0., 0., 0., 0.],\n",
            "        [0., 0., 0., 0.],\n",
            "        [0., 0., 0., 0.],\n",
            "        [0., 0., 0., 0.]])\n"
          ]
        }
      ]
    },
    {
      "cell_type": "code",
      "metadata": {
        "colab": {
          "base_uri": "https://localhost:8080/"
        },
        "id": "tx8GpoVV0VdI",
        "outputId": "fd0f8014-c316-4f06-aa8d-c6300f133fca"
      },
      "source": [
        "t = torch.ones(2, 4)\n",
        "t2 = torch.matmul(t, t.T)\n",
        "print(t2.size())\n",
        "t3 = torch.matmul(t.T, t)\n",
        "print(t3.size())\n",
        "t4 = t.matmul(t.T)\n",
        "print(t4.size())"
      ],
      "execution_count": null,
      "outputs": [
        {
          "output_type": "stream",
          "name": "stdout",
          "text": [
            "torch.Size([2, 2])\n",
            "torch.Size([4, 4])\n",
            "torch.Size([2, 2])\n"
          ]
        }
      ]
    },
    {
      "cell_type": "code",
      "metadata": {
        "colab": {
          "base_uri": "https://localhost:8080/"
        },
        "id": "R088FmKr0geA",
        "outputId": "70f7b832-a480-4284-a42d-d131360ed437"
      },
      "source": [
        "t = torch.ones(2, 4)\n",
        "t = t.view(4, 2)\n",
        "t = t.reshape(4, -1)\n",
        "t = t.view(-1) \n",
        "print(t.size())\n",
        "\n",
        "t = torch.randn(2, 4)\n",
        "t2 = t.permute(1, 0)\n",
        "t3 = t.reshape(4, 2)\n",
        "print(t)\n",
        "print(t2)\n",
        "print(t3)\n",
        "\n",
        "t = torch.randn(2, 3, 4)\n",
        "t4 = t.permute(1, 0, 2)\n",
        "print(t4.size())"
      ],
      "execution_count": null,
      "outputs": [
        {
          "output_type": "stream",
          "name": "stdout",
          "text": [
            "torch.Size([8])\n",
            "tensor([[ 1.9267,  0.8563,  0.9197, -1.2746],\n",
            "        [ 1.0293,  0.2902, -0.0114,  0.0909]])\n",
            "tensor([[ 1.9267,  1.0293],\n",
            "        [ 0.8563,  0.2902],\n",
            "        [ 0.9197, -0.0114],\n",
            "        [-1.2746,  0.0909]])\n",
            "tensor([[ 1.9267,  0.8563],\n",
            "        [ 0.9197, -1.2746],\n",
            "        [ 1.0293,  0.2902],\n",
            "        [-0.0114,  0.0909]])\n",
            "torch.Size([3, 2, 4])\n"
          ]
        }
      ]
    },
    {
      "cell_type": "code",
      "metadata": {
        "colab": {
          "base_uri": "https://localhost:8080/"
        },
        "id": "qaXpWQgP1CQS",
        "outputId": "0dfeef3c-a2fe-493a-d8a6-5cd62b8ddfb7"
      },
      "source": [
        "# Squeeze & Unsqueeze\n",
        "t = torch.randn(5, 1, 1, 6)\n",
        "print(t.squeeze(1).size())\n",
        "print(t.squeeze().size())\n",
        "print(t.unsqueeze(0).size())"
      ],
      "execution_count": null,
      "outputs": [
        {
          "output_type": "stream",
          "name": "stdout",
          "text": [
            "torch.Size([5, 1, 6])\n",
            "torch.Size([5, 6])\n",
            "torch.Size([1, 5, 1, 1, 6])\n"
          ]
        }
      ]
    },
    {
      "cell_type": "code",
      "metadata": {
        "colab": {
          "base_uri": "https://localhost:8080/"
        },
        "id": "DPWGE2Ah1J_T",
        "outputId": "a30a01e3-3d10-4290-a1e6-693b90e23f92"
      },
      "source": [
        "# Einsum\n",
        "A = torch.randn(3, 2, 5)\n",
        "B = torch.randn(3, 5, 4)\n",
        "C = torch.einsum('bij,bjk->bik', A, B)\n",
        "print(C.size())\n",
        "\n",
        "A = torch.randn(3, 5, 4)\n",
        "l = torch.randn(2, 5)\n",
        "r = torch.randn(2, 4)\n",
        "B = torch.einsum('bn,anm,bm->ba', l, A, r)\n",
        "print(B.size())"
      ],
      "execution_count": null,
      "outputs": [
        {
          "output_type": "stream",
          "name": "stdout",
          "text": [
            "torch.Size([3, 2, 4])\n",
            "torch.Size([2, 3])\n"
          ]
        }
      ]
    },
    {
      "cell_type": "code",
      "metadata": {
        "colab": {
          "base_uri": "https://localhost:8080/"
        },
        "id": "74YDdZab1UxP",
        "outputId": "06a30c33-91a2-4a03-f7db-b8756c788a78"
      },
      "source": [
        "A = torch.randn(5, 10)\n",
        "B = torch.randn(5, 10)\n",
        "C = torch.einsum('bd,cd->bc', A, B)\n",
        "print(C.size())\n",
        "\n",
        "A = torch.randn(5, 10, 15)\n",
        "B = torch.randn(5, 20, 15)\n",
        "C = torch.randn(15, 15)\n",
        "D = torch.einsum('bld,dd,bkd->blk', A, C, B)\n",
        "print(D.size())"
      ],
      "execution_count": null,
      "outputs": [
        {
          "output_type": "stream",
          "name": "stdout",
          "text": [
            "torch.Size([5, 5])\n",
            "torch.Size([5, 10, 20])\n"
          ]
        }
      ]
    },
    {
      "cell_type": "code",
      "metadata": {
        "colab": {
          "base_uri": "https://localhost:8080/"
        },
        "id": "2s2XWYQM1sc-",
        "outputId": "a18057b5-1134-4d7f-8c69-85b2384e628d"
      },
      "source": [
        "# Broadcasting\n",
        "x = torch.randn(5, 3)\n",
        "y = torch.randn(5, 1)\n",
        "z = x + y\n",
        "a = x + 5\n",
        "print(z.size())\n",
        "print(a.size())"
      ],
      "execution_count": null,
      "outputs": [
        {
          "output_type": "stream",
          "name": "stdout",
          "text": [
            "torch.Size([5, 3])\n",
            "torch.Size([5, 3])\n"
          ]
        }
      ]
    },
    {
      "cell_type": "code",
      "metadata": {
        "colab": {
          "base_uri": "https://localhost:8080/"
        },
        "id": "Az_KC5DN1ykL",
        "outputId": "476bcf6b-02ab-4854-b1e4-6d2583c06bd1"
      },
      "source": [
        "# Maximum, Minimum, and Mean\n",
        "A = torch.randn(5, 10)\n",
        "m1 = A.max(dim=1)[0]\n",
        "m2 = A.max(dim=0)[0]\n",
        "m3 = A.mean(dim=1)\n",
        "m4 = A.mean(dim=1, keepdim=True)\n",
        "print(m1.size(), m2.size(), m3.size(), m4.size())"
      ],
      "execution_count": null,
      "outputs": [
        {
          "output_type": "stream",
          "name": "stdout",
          "text": [
            "torch.Size([5]) torch.Size([10]) torch.Size([5]) torch.Size([5, 1])\n"
          ]
        }
      ]
    },
    {
      "cell_type": "markdown",
      "metadata": {
        "id": "ThO-MYku4UvH"
      },
      "source": [
        "#### Neural Networks"
      ]
    },
    {
      "cell_type": "code",
      "metadata": {
        "colab": {
          "base_uri": "https://localhost:8080/"
        },
        "id": "EUh7O7n117hv",
        "outputId": "07cf25f6-050b-417f-c636-3b6e77a61e9e"
      },
      "source": [
        "# Linear\n",
        "m = nn.Linear(20, 30, bias=True)\n",
        "a = torch.randn(128, 20)\n",
        "b = m(a)\n",
        "print(b.size())"
      ],
      "execution_count": null,
      "outputs": [
        {
          "output_type": "stream",
          "name": "stdout",
          "text": [
            "torch.Size([128, 30])\n"
          ]
        }
      ]
    },
    {
      "cell_type": "code",
      "metadata": {
        "colab": {
          "base_uri": "https://localhost:8080/"
        },
        "id": "vJDhbR8J2CtF",
        "outputId": "a807d647-392f-4899-81c1-6dd78063bd0e"
      },
      "source": [
        "# Embedding\n",
        "# nn.Embedding(num_embeddings, embedding_dim, padding_idx=None)\n",
        "# nn.Embedding.from_pretrained(embeddings, freeze=True, padding_idx=None)\n",
        "weight = torch.rand(10, 400)\n",
        "embedding = nn.Embedding.from_pretrained(weight)\n",
        "a = torch.LongTensor([1])\n",
        "print(embedding(a).size())"
      ],
      "execution_count": null,
      "outputs": [
        {
          "output_type": "stream",
          "name": "stdout",
          "text": [
            "torch.Size([1, 400])\n"
          ]
        }
      ]
    },
    {
      "cell_type": "code",
      "metadata": {
        "colab": {
          "base_uri": "https://localhost:8080/"
        },
        "id": "GvEGQS0j2LmK",
        "outputId": "b25995ee-d384-49cd-d9ea-0a26c885419f"
      },
      "source": [
        "# Conv1d\n",
        "# nn.Conv1d(in, out, kernel_size, stride=1, padding=0)\n",
        "m = nn.Conv1d(16, 32, 3, stride=2)\n",
        "a = torch.randn(20, 16, 50)\n",
        "b = m(a)\n",
        "print(b.size())\n",
        "# bsz = 20, seq_len = 50, hidden = 16"
      ],
      "execution_count": null,
      "outputs": [
        {
          "output_type": "stream",
          "name": "stdout",
          "text": [
            "torch.Size([20, 32, 24])\n"
          ]
        }
      ]
    },
    {
      "cell_type": "code",
      "metadata": {
        "colab": {
          "base_uri": "https://localhost:8080/"
        },
        "id": "0nluHvrq2Cvj",
        "outputId": "6732ed62-9f8a-4255-97db-707004172759"
      },
      "source": [
        "# Conv2d\n",
        "# nn.Conv2d(in, out, kernel_size, stride=1, padding=0)\n",
        "m = nn.Conv2d(16, 33, 3, stride=2)\n",
        "a = torch.randn(20, 16, 50, 100)\n",
        "b = m(a)\n",
        "print(b.size())"
      ],
      "execution_count": null,
      "outputs": [
        {
          "output_type": "stream",
          "name": "stdout",
          "text": [
            "torch.Size([20, 33, 24, 49])\n"
          ]
        }
      ]
    },
    {
      "cell_type": "code",
      "metadata": {
        "colab": {
          "base_uri": "https://localhost:8080/"
        },
        "id": "Ck4D4Hm52Yqr",
        "outputId": "58bd0731-855d-4a54-f9bb-0e2192057b66"
      },
      "source": [
        "# MaxPool1d\n",
        "# nn.MaxPool1d(kernel_size, stride=None, padding=0)\n",
        "m = nn.MaxPool1d(3, stride=2)\n",
        "a = torch.randn(20, 16, 50)\n",
        "b = m(a)\n",
        "print(b.size())"
      ],
      "execution_count": null,
      "outputs": [
        {
          "output_type": "stream",
          "name": "stdout",
          "text": [
            "torch.Size([20, 16, 24])\n"
          ]
        }
      ]
    },
    {
      "cell_type": "code",
      "metadata": {
        "colab": {
          "base_uri": "https://localhost:8080/"
        },
        "id": "h6a4NQh_2fN5",
        "outputId": "311fc170-f29d-46c3-ab0e-a4fa5324e607"
      },
      "source": [
        "# MaxPool2d\n",
        "# nn.MaxPool2d(kernel_size, stride=None, padding=0)\n",
        "m = nn.MaxPool2d((3, 2), stride=(2, 1))\n",
        "a = torch.randn(20, 16, 50, 32)\n",
        "b = m(a)\n",
        "print(b.size())"
      ],
      "execution_count": null,
      "outputs": [
        {
          "output_type": "stream",
          "name": "stdout",
          "text": [
            "torch.Size([20, 16, 24, 31])\n"
          ]
        },
        {
          "output_type": "stream",
          "name": "stderr",
          "text": [
            "/usr/local/lib/python3.7/dist-packages/torch/nn/functional.py:718: UserWarning: Named tensors and all their associated APIs are an experimental feature and subject to change. Please do not use them for anything important until they are released as stable. (Triggered internally at  /pytorch/c10/core/TensorImpl.h:1156.)\n",
            "  return torch.max_pool2d(input, kernel_size, stride, padding, dilation, ceil_mode)\n"
          ]
        }
      ]
    },
    {
      "cell_type": "code",
      "metadata": {
        "colab": {
          "base_uri": "https://localhost:8080/"
        },
        "id": "ut6QrK112vyU",
        "outputId": "00d319f8-3d60-4679-8d51-735b3af16463"
      },
      "source": [
        "# GRU\n",
        "# nn.GRU(input_size, hidden_size, num_layers=1, batch_first=False, bidirectional=False)\n",
        "gru = nn.GRU(10, 20, 2, batch_first=True)\n",
        "a = torch.randn(3, 10, 10)\n",
        "output, h = gru(a)\n",
        "print(output.size())  # (only last layer)\n",
        "print(h.size())  # (not affected by batch_first)"
      ],
      "execution_count": null,
      "outputs": [
        {
          "output_type": "stream",
          "name": "stdout",
          "text": [
            "torch.Size([3, 10, 20])\n",
            "torch.Size([2, 3, 20])\n"
          ]
        }
      ]
    },
    {
      "cell_type": "code",
      "metadata": {
        "colab": {
          "base_uri": "https://localhost:8080/"
        },
        "id": "HpWdFuqo3Ad7",
        "outputId": "25e20f79-9832-4c98-e8c7-33c460eb18eb"
      },
      "source": [
        "# LSTM\n",
        "# nn.LSTM(input_size, hidden_size, num_layers=1, batch_first=False)\n",
        "lstm = nn.LSTM(10, 20, 2, batch_first=True)\n",
        "a = torch.randn(3, 10, 10)\n",
        "output, (hn, cn) = lstm(a)\n",
        "print(output.size())\n",
        "print(hn.size())\n",
        "print(cn.size())"
      ],
      "execution_count": null,
      "outputs": [
        {
          "output_type": "stream",
          "name": "stdout",
          "text": [
            "torch.Size([3, 10, 20])\n",
            "torch.Size([2, 3, 20])\n",
            "torch.Size([2, 3, 20])\n"
          ]
        }
      ]
    },
    {
      "cell_type": "code",
      "metadata": {
        "colab": {
          "base_uri": "https://localhost:8080/"
        },
        "id": "uFHeQijH3K0z",
        "outputId": "56592c46-c6c6-48e1-a00e-9a93fbb76174"
      },
      "source": [
        "# Sequential\n",
        "a = nn.Sequential(\n",
        "\tnn.Linear(10, 10), \n",
        "\tnn.ReLU(), \n",
        "\tnn.Linear(10, 1)\n",
        ")\n",
        "b = torch.randn(10, 10)\n",
        "c = a(b)\n",
        "print(c.size())"
      ],
      "execution_count": null,
      "outputs": [
        {
          "output_type": "stream",
          "name": "stdout",
          "text": [
            "torch.Size([10, 1])\n"
          ]
        }
      ]
    },
    {
      "cell_type": "code",
      "metadata": {
        "id": "J81efUeW3Uqg"
      },
      "source": [
        "# Dropout\n",
        "p = nn.Dropout(p=0.1)"
      ],
      "execution_count": null,
      "outputs": []
    },
    {
      "cell_type": "code",
      "metadata": {
        "id": "1MXegS9t3Zg0"
      },
      "source": [
        "# Non-linear activation\n",
        "nn.Softmax(dim=None)\n",
        "nn.Sigmoid()\n",
        "nn.ReLU()\n",
        "nn.Tanh()"
      ],
      "execution_count": null,
      "outputs": []
    },
    {
      "cell_type": "code",
      "metadata": {
        "colab": {
          "base_uri": "https://localhost:8080/"
        },
        "id": "Q3i6BLEV3fC6",
        "outputId": "3b66a366-fe34-4e68-eff2-5bd037349405"
      },
      "source": [
        "# Transformer\n",
        "# nn.TransformerEncoder(encoder_layer, num_layers, norm=None)\n",
        "# nn.TransformerEncoderLayer(d_model, nhead, dim_ff, dropout=0.1, activation=‘relu’)\n",
        "encoder_layer = nn.TransformerEncoderLayer(d_model=512, nhead=8)\n",
        "transformer_encoder = nn.TransformerEncoder(encoder_layer, num_layers=6)\n",
        "src = torch.rand(10, 32, 512)\n",
        "out = transformer_encoder(src)\n",
        "print(out.size())"
      ],
      "execution_count": null,
      "outputs": [
        {
          "output_type": "stream",
          "name": "stdout",
          "text": [
            "torch.Size([10, 32, 512])\n"
          ]
        }
      ]
    },
    {
      "cell_type": "code",
      "metadata": {
        "id": "i99LwbRr3lHe"
      },
      "source": [
        "# Loss Function\n",
        "nn.MSELoss()\n",
        "(N, *), (N, *)\n",
        "\n",
        "nn.CrossEntropyLoss()\n",
        "(N, C), (N) (Target is a LongTensor, no Softmax)\n",
        "\n",
        "nn.NLLLoss()\n",
        "(N, C), (N)\n",
        "\n",
        "nn.KLDivLoss()\n",
        "(N, *), (N, *)\n",
        "\n",
        "nn.BCELoss()\n",
        "(N, *), (N, *) (Target is a FloatTensor, need Sigmoid)\n",
        "\n",
        "nn.BCEWithLogitsLoss()\n",
        "(N, *), (N, *) (no Sigmoid, more stable)\n"
      ],
      "execution_count": null,
      "outputs": []
    }
  ]
}